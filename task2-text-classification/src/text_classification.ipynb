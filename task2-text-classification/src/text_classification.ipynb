{
 "cells": [
  {
   "cell_type": "code",
   "execution_count": 1,
   "source": [
    "import pandas as pd"
   ],
   "outputs": [],
   "metadata": {}
  },
  {
   "cell_type": "code",
   "execution_count": 2,
   "source": [
    "df = pd.read_csv('../data/train_set.csv', encoding='cp437')\n",
    "print(df.info())\n",
    "print(df.head())"
   ],
   "outputs": [
    {
     "output_type": "stream",
     "name": "stdout",
     "text": [
      "<class 'pandas.core.frame.DataFrame'>\n",
      "RangeIndex: 23615 entries, 0 to 23614\n",
      "Data columns (total 2 columns):\n",
      " #   Column  Non-Null Count  Dtype \n",
      "---  ------  --------------  ----- \n",
      " 0   label   23615 non-null  int64 \n",
      " 1   text    23615 non-null  object\n",
      "dtypes: int64(1), object(1)\n",
      "memory usage: 369.1+ KB\n",
      "None\n",
      "      label                                               text\n",
      "0  85389000                 pdscpm gb part of panel of chiller\n",
      "1  85389000  nm  p economical extended rot hand parts for c...\n",
      "2  85389000  lv ma pd trip unit for cvs parts of circuit br...\n",
      "3  85389000  lv na p trip unit for cvs switch parts of circ...\n",
      "4  85389000  lv tmd pd trip unit for cvs parts of circuitbr...\n"
     ]
    }
   ],
   "metadata": {}
  },
  {
   "cell_type": "markdown",
   "source": [
    "## Encoding the Labels"
   ],
   "metadata": {}
  },
  {
   "cell_type": "code",
   "execution_count": 3,
   "source": [
    "from sklearn.preprocessing import LabelEncoder\n",
    "encoder = LabelEncoder()\n",
    "df['label'] = encoder.fit_transform(df['label'])"
   ],
   "outputs": [],
   "metadata": {}
  },
  {
   "cell_type": "markdown",
   "source": [
    "## Clean the text"
   ],
   "metadata": {}
  },
  {
   "cell_type": "code",
   "execution_count": 4,
   "source": [
    "import re\n",
    "import nltk\n",
    "nltk.download('punkt')\n",
    "from nltk.corpus import stopwords as sw\n",
    "from nltk.stem.porter import PorterStemmer\n",
    "\n",
    "corpus = []\n",
    "for i in df['text']:\n",
    "    sentence = re.sub(\"[^a-zA-z]\", \" \", i).lower().split()\n",
    "    ps = PorterStemmer()\n",
    "    sentence = [ps.stem(word) for word in sentence if not word in set(sw.words('english'))]\n",
    "    sentence = ' '.join(sentence)\n",
    "    corpus.append(sentence)"
   ],
   "outputs": [
    {
     "output_type": "stream",
     "name": "stderr",
     "text": [
      "[nltk_data] Downloading package punkt to /home/sarthak/nltk_data...\n",
      "[nltk_data]   Package punkt is already up-to-date!\n"
     ]
    }
   ],
   "metadata": {}
  },
  {
   "cell_type": "markdown",
   "source": [
    "## Creating Bag of Words"
   ],
   "metadata": {}
  },
  {
   "cell_type": "code",
   "execution_count": 5,
   "source": [
    "from sklearn.feature_extraction.text import CountVectorizer\n",
    "cv = CountVectorizer()\n",
    "x = cv.fit_transform(corpus).toarray()\n",
    "y = df.iloc[:, 0].values"
   ],
   "outputs": [],
   "metadata": {}
  },
  {
   "cell_type": "markdown",
   "source": [
    "## Applying Stratified K-fold cross validation"
   ],
   "metadata": {}
  },
  {
   "cell_type": "code",
   "execution_count": 6,
   "source": [
    "from sklearn.model_selection import StratifiedKFold\n",
    "from sklearn.preprocessing import StandardScaler\n",
    "skf = StratifiedKFold(n_splits=10, shuffle=True, random_state=1)\n",
    "sc = StandardScaler()\n",
    "X = sc.fit_transform(x)\n",
    "models = dict()"
   ],
   "outputs": [],
   "metadata": {}
  },
  {
   "cell_type": "markdown",
   "source": [
    "## Naive Bayes"
   ],
   "metadata": {}
  },
  {
   "cell_type": "code",
   "execution_count": 7,
   "source": [
    "from sklearn.naive_bayes import GaussianNB\n",
    "from statistics import mean\n",
    "nbc = GaussianNB()\n",
    "accumulate_stratified = []\n",
    "for train_index, test_index in skf.split(X, y):\n",
    "    xtrain, xtest = X[train_index], X[test_index]\n",
    "    ytrain, ytest = y[train_index], y[test_index]\n",
    "    nbc.fit(xtrain, ytrain)\n",
    "    accumulate_stratified.append(nbc.score(xtest, ytest))\n",
    "print(accumulate_stratified)\n",
    "print(mean(accumulate_stratified))\n",
    "models[mean(accumulate_stratified)] = nbc"
   ],
   "outputs": [
    {
     "output_type": "stream",
     "name": "stdout",
     "text": [
      "[0.842506350550381, 0.8543607112616427, 0.8543607112616427, 0.8378492802709568, 0.8543607112616427, 0.8377806014400677, 0.829733163913596, 0.8390512494705633, 0.8441338415925456, 0.83142736128759]\n",
      "0.8425563982310629\n"
     ]
    }
   ],
   "metadata": {}
  },
  {
   "cell_type": "markdown",
   "source": [
    "## Decision Tree"
   ],
   "metadata": {}
  },
  {
   "cell_type": "code",
   "execution_count": 8,
   "source": [
    "from sklearn.tree import DecisionTreeClassifier\n",
    "dtc = DecisionTreeClassifier(criterion='entropy', random_state=42)\n",
    "accumulate_stratified = []\n",
    "for train_index, test_index in skf.split(X, y):\n",
    "    xtrain, xtest = X[train_index], X[test_index]\n",
    "    ytrain, ytest = y[train_index], y[test_index]\n",
    "    dtc.fit(xtrain, ytrain)\n",
    "    accumulate_stratified.append(dtc.score(xtest, ytest))\n",
    "print(accumulate_stratified)\n",
    "print(mean(accumulate_stratified))\n",
    "models[mean(accumulate_stratified)] = dtc"
   ],
   "outputs": [
    {
     "output_type": "stream",
     "name": "stdout",
     "text": [
      "[0.9335309060118544, 0.9284504657070279, 0.9259102455546148, 0.9195596951735817, 0.9297205757832345, 0.9216433714527742, 0.9301143583227446, 0.928843710292249, 0.9343498517577298, 0.915713680643795]\n",
      "0.9267836860699605\n"
     ]
    }
   ],
   "metadata": {}
  },
  {
   "cell_type": "markdown",
   "source": [
    "## Random Forest"
   ],
   "metadata": {}
  },
  {
   "cell_type": "code",
   "execution_count": 9,
   "source": [
    "from sklearn.ensemble import RandomForestClassifier\n",
    "rfc = RandomForestClassifier(n_estimators=10, criterion=\"entropy\", random_state=42)\n",
    "accumulate_stratified = []\n",
    "for train_index, test_index in skf.split(X, y):\n",
    "    xtrain, xtest = X[train_index], X[test_index]\n",
    "    ytrain, ytest = y[train_index], y[test_index]\n",
    "    rfc.fit(xtrain, ytrain)\n",
    "    accumulate_stratified.append(rfc.score(xtest, ytest))\n",
    "print(accumulate_stratified)\n",
    "print(mean(accumulate_stratified))\n",
    "models[mean(accumulate_stratified)] = rfc"
   ],
   "outputs": [
    {
     "output_type": "stream",
     "name": "stdout",
     "text": [
      "[0.939034716342083, 0.930567315834039, 0.9356477561388654, 0.9250635055038103, 0.9343776460626587, 0.928843710292249, 0.9390088945362135, 0.928843710292249, 0.9449385853451927, 0.9233375688267683]\n",
      "0.9329663409174129\n"
     ]
    }
   ],
   "metadata": {}
  },
  {
   "cell_type": "markdown",
   "source": [
    "# Testing the Model on Test Data"
   ],
   "metadata": {}
  },
  {
   "cell_type": "markdown",
   "source": [
    "## After observing the above predictions, we got to know that for this dataset, Random Forest Algorithm is the best match"
   ],
   "metadata": {}
  },
  {
   "cell_type": "code",
   "execution_count": 11,
   "source": [
    "print(\"X :\", x[:5])\n",
    "print(\"Y :\", y[:5])"
   ],
   "outputs": [
    {
     "output_type": "stream",
     "name": "stdout",
     "text": [
      "X : [[0 0 0 ... 0 0 0]\n",
      " [0 0 0 ... 0 0 0]\n",
      " [0 0 0 ... 0 0 0]\n",
      " [0 0 0 ... 0 0 0]\n",
      " [0 0 0 ... 0 0 0]]\n",
      "Y : [9 9 9 9 9]\n"
     ]
    }
   ],
   "metadata": {}
  },
  {
   "cell_type": "code",
   "execution_count": 12,
   "source": [
    "df_test = pd.read_csv('../data/test_set.csv', encoding='cp437')\n",
    "print(df_test.info())\n",
    "print(df_test.head())"
   ],
   "outputs": [
    {
     "output_type": "stream",
     "name": "stdout",
     "text": [
      "<class 'pandas.core.frame.DataFrame'>\n",
      "RangeIndex: 5894 entries, 0 to 5893\n",
      "Data columns (total 1 columns):\n",
      " #   Column  Non-Null Count  Dtype \n",
      "---  ------  --------------  ----- \n",
      " 0   text    5894 non-null   object\n",
      "dtypes: object(1)\n",
      "memory usage: 46.2+ KB\n",
      "None\n",
      "                                                text\n",
      "0  lv tmd pd trip unit for nh parts of circuit br...\n",
      "1  module tm analog outputs analog output expansi...\n",
      "2   command group t iii mechanismt p parts forcir...\n",
      "3    parts of relayelectrical contact  issu e f xxup\n",
      "4  parts for programmable logic controllers  dm  ...\n"
     ]
    }
   ],
   "metadata": {}
  },
  {
   "cell_type": "code",
   "execution_count": 13,
   "source": [
    "corpus = []\n",
    "for i in df_test['text']:\n",
    "    sentence = re.sub(\"[^a-zA-z]\", \" \", i).lower().split()\n",
    "    ps = PorterStemmer()\n",
    "    sentence = [ps.stem(word) for word in sentence if not word in set(sw.words('english'))]\n",
    "    sentence = ' '.join(sentence)\n",
    "    corpus.append(sentence)"
   ],
   "outputs": [],
   "metadata": {}
  },
  {
   "cell_type": "code",
   "execution_count": 14,
   "source": [
    "x_train = X\n",
    "x_test = cv.transform(corpus).toarray()\n",
    "x_test = sc.transform(x_test)"
   ],
   "outputs": [],
   "metadata": {}
  },
  {
   "cell_type": "markdown",
   "source": [
    "## Applying Random Forest Model on Test Data"
   ],
   "metadata": {}
  },
  {
   "cell_type": "code",
   "execution_count": 15,
   "source": [
    "model = models[max(*list(models.keys()))]\n",
    "model.fit(x_train, y)\n",
    "predictions = model.predict(x_test)\n",
    "print(y[300:310])\n",
    "print(predictions[300:310])"
   ],
   "outputs": [
    {
     "output_type": "stream",
     "name": "stdout",
     "text": [
      "[9 9 9 9 9 9 9 9 9 9]\n",
      "[ 9  9 11  9  9  9  9  9  9  9]\n"
     ]
    }
   ],
   "metadata": {}
  },
  {
   "cell_type": "markdown",
   "source": [
    "## Reverting the data to it's original form"
   ],
   "metadata": {}
  },
  {
   "cell_type": "code",
   "execution_count": 16,
   "source": [
    "y_original_pridictions = encoder.inverse_transform(predictions)\n",
    "print(y_original_pridictions[300:310])"
   ],
   "outputs": [
    {
     "output_type": "stream",
     "name": "stdout",
     "text": [
      "[85389000 85389000 87089900 85389000 85389000 85389000 85389000 85389000\n",
      " 85389000 85389000]\n"
     ]
    }
   ],
   "metadata": {}
  },
  {
   "cell_type": "code",
   "execution_count": 17,
   "source": [
    "df_test['label'] = y_original_pridictions\n",
    "print(df_test.info())\n",
    "print(df_test['label'].unique())\n",
    "print(df_test['label'].unique().shape)\n",
    "print(df_test[1000:1010])"
   ],
   "outputs": [
    {
     "output_type": "stream",
     "name": "stdout",
     "text": [
      "<class 'pandas.core.frame.DataFrame'>\n",
      "RangeIndex: 5894 entries, 0 to 5893\n",
      "Data columns (total 2 columns):\n",
      " #   Column  Non-Null Count  Dtype \n",
      "---  ------  --------------  ----- \n",
      " 0   text    5894 non-null   object\n",
      " 1   label   5894 non-null   int64 \n",
      "dtypes: int64(1), object(1)\n",
      "memory usage: 92.2+ KB\n",
      "None\n",
      "[85389000 39269099 85369090 85366990 85364900 85177090 73181500 87089900\n",
      " 84713010 87082900 85238090 33041000]\n",
      "(12,)\n",
      "                                                   text     label\n",
      "1000  non lte non sdh equipment card trage  bkaacasr...  85177090\n",
      "1001  non lte non sdh equipment card trage  bkaacasr...  85177090\n",
      "1002  non lte non sdh equipment card trage  bkaacasr...  85177090\n",
      "1003  non lte non sdh equipment card trage  bkaacasr...  85177090\n",
      "1004  non lte non sdh equipment card trage  bkaacasr...  85177090\n",
      "1005  non lte non sdh equipment card trage  bkaacasr...  85177090\n",
      "1006  snofchtwb pnoucsbbm parts of networking equipm...  85177090\n",
      "1007  snofchvc pnorw parts of networking equipments ...  85177090\n",
      "1008  airapidk ac wave  xss int ant d reg domain net...  85177090\n",
      "1009  vg modular  fxs port voip gateway with pvdm ne...  85177090\n"
     ]
    }
   ],
   "metadata": {}
  },
  {
   "cell_type": "code",
   "execution_count": 18,
   "source": [
    "df_test.to_csv(\"../data/output_set.csv\", index=False)"
   ],
   "outputs": [],
   "metadata": {}
  },
  {
   "cell_type": "markdown",
   "source": [
    "# Graphs"
   ],
   "metadata": {}
  },
  {
   "cell_type": "code",
   "execution_count": 19,
   "source": [
    "df.plot.scatter(x='text', y='label', c='green')"
   ],
   "outputs": [
    {
     "output_type": "execute_result",
     "data": {
      "text/plain": [
       "<AxesSubplot:xlabel='text', ylabel='label'>"
      ]
     },
     "metadata": {},
     "execution_count": 19
    },
    {
     "output_type": "display_data",
     "data": {
      "image/png": "[encoded data removed]",
      "text/plain": [
       "<Figure size 432x288 with 1 Axes>"
      ]
     },
     "metadata": {
      "needs_background": "light"
     }
    }
   ],
   "metadata": {}
  },
  {
   "cell_type": "code",
   "execution_count": 20,
   "source": [
    "df_test.plot.scatter(x='text', y='label', c='red')"
   ],
   "outputs": [
    {
     "output_type": "execute_result",
     "data": {
      "text/plain": [
       "<AxesSubplot:xlabel='text', ylabel='label'>"
      ]
     },
     "metadata": {},
     "execution_count": 20
    },
    {
     "output_type": "display_data",
     "data": {
      "image/png": "[encoded data removed]",
      "text/plain": [
       "<Figure size 432x288 with 1 Axes>"
      ]
     },
     "metadata": {
      "needs_background": "light"
     }
    }
   ],
   "metadata": {}
  }
 ],
 "metadata": {
  "orig_nbformat": 4,
  "language_info": {
   "name": "python",
   "version": "3.8.10",
   "mimetype": "text/x-python",
   "codemirror_mode": {
    "name": "ipython",
    "version": 3
   },
   "pygments_lexer": "ipython3",
   "nbconvert_exporter": "python",
   "file_extension": ".py"
  },
  "kernelspec": {
   "name": "python3",
   "display_name": "Python 3.8.10 64-bit ('venv': venv)"
  },
  "interpreter": {
   "hash": "6415b58ce070e25c800a1cf3688e55d5806ce59d42303dcbf9d5c72b77fecbf8"
  }
 },
 "nbformat": 4,
 "nbformat_minor": 2
}